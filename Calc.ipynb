{
  "nbformat": 4,
  "nbformat_minor": 0,
  "metadata": {
    "colab": {
      "name": "Calc.ipynb",
      "provenance": [],
      "collapsed_sections": [],
      "authorship_tag": "ABX9TyN9kaDwn7QvJiGTzFVteL50",
      "include_colab_link": true
    },
    "kernelspec": {
      "name": "python3",
      "display_name": "Python 3"
    },
    "language_info": {
      "name": "python"
    }
  },
  "cells": [
    {
      "cell_type": "markdown",
      "metadata": {
        "id": "view-in-github",
        "colab_type": "text"
      },
      "source": [
        "<a href=\"https://colab.research.google.com/github/imran082/Crypto_Forecast/blob/master/Calc.ipynb\" target=\"_parent\"><img src=\"https://colab.research.google.com/assets/colab-badge.svg\" alt=\"Open In Colab\"/></a>"
      ]
    },
    {
      "cell_type": "markdown",
      "metadata": {
        "id": "BdR_spdme-ZE"
      },
      "source": [
        "**Install and Import Modules**"
      ]
    },
    {
      "cell_type": "code",
      "metadata": {
        "id": "JU3AgOZrqNn-"
      },
      "source": [
        "!pip install yfinance\n",
        "!pip install pyfolio\n",
        "!pip install plotly\n",
        "!pip install requests\n",
        "!pip install -U bdshare\n",
        "!pip install investpy\n",
        "!pip install dash\n",
        "!pip install cryptocmd\n",
        "!pip install prophet\n",
        "# !pip install mplfinance\n",
        "# !pip install nsetools\n",
        "# !pip install xlsxwriter\n",
        "# !pip install morningstar\n",
        "\n",
        "import yfinance as yf\n",
        "import pandas as pd\n",
        "import matplotlib.pyplot as plt\n",
        "import seaborn as sns\n",
        "import plotly.graph_objects as go\n",
        "import numpy as np\n",
        "import requests\n",
        "import html5lib\n",
        "import bs4\n",
        "import json\n",
        "from datetime import datetime\n",
        "import textwrap\n",
        "\n",
        "# import xlsxwriter\n",
        "\n",
        "%matplotlib inline"
      ],
      "execution_count": null,
      "outputs": []
    },
    {
      "cell_type": "markdown",
      "metadata": {
        "id": "h3M8tMVOfFcs"
      },
      "source": [
        "**Available Functions**"
      ]
    },
    {
      "cell_type": "code",
      "metadata": {
        "id": "IOkhq7agC3PO"
      },
      "source": [
        "# a.info\n",
        "# a.actions\n",
        "# a.balance_sheet\n",
        "# a.calendar\n",
        "# a.dividends\n",
        "# a.earnings\n",
        "# a.financials\n",
        "# a.splits\n",
        "# a.quarterly_balancesheet\n",
        "# a.cashflow\n",
        "# a.quarterly_earnings\n",
        "# a.quarterly_financials\n",
        "# a.major_holders\n",
        "# a.mutualfund_holders\n",
        "# a.options\n",
        "# a.quarterly_cashflow\n",
        "# a.recommendations\n",
        "# a.sustainability"
      ],
      "execution_count": 2,
      "outputs": []
    },
    {
      "cell_type": "markdown",
      "metadata": {
        "id": "rEv5zEM1emgx"
      },
      "source": [
        "**S&P500 Data**"
      ]
    },
    {
      "cell_type": "code",
      "metadata": {
        "id": "uTIEWUfKELXD"
      },
      "source": [
        "# Read and print the stock tickers that make up S&P500\n",
        "# use \"period\" instead of start/end\n",
        "        # valid periods: 1d,5d,1mo,3mo,6mo,1y,2y,5y,10y,ytd,max\n",
        "        # (optional, default is '1mo')\n",
        "\n",
        "tickers = pd.read_html(\n",
        "    'https://en.wikipedia.org/wiki/List_of_S%26P_500_companies')[0]\n",
        "print(tickers.head())\n",
        "\n",
        "# Get the data for this tickers from yahoo finance\n",
        "data = yf.download(tickers.Symbol.to_list(), period = '5y', auto_adjust=True)['Close']"
      ],
      "execution_count": null,
      "outputs": []
    },
    {
      "cell_type": "code",
      "metadata": {
        "id": "iprIDDIo5pNA"
      },
      "source": [
        "# pd.set_opion.display.[max_categories, max_columns, max_colwidth, max_info_columns, max_info_rows, \n",
        "#          max_rows, max_seq_items, memory_usage, min_rows, multi_sparse, notebook_repr_html, pprint_nest_depth, precision, show_dimensions]\n",
        "\n",
        "sp = pd.DataFrame(data)\n",
        "# pd.set_option(\"max_columns\",505)\n",
        "# pd.set_option(\"max_rows\",50)\n",
        "\n",
        "sp[0:30]"
      ],
      "execution_count": null,
      "outputs": []
    },
    {
      "cell_type": "markdown",
      "metadata": {
        "id": "9tCrxwhFeHmg"
      },
      "source": [
        "**Periodic Charts**"
      ]
    },
    {
      "cell_type": "code",
      "metadata": {
        "id": "LD212j6IFBuI"
      },
      "source": [
        "# Intraday or Minute Frequency Stock Data\n",
        "# use \"period\" instead of start/end\n",
        "        # valid periods: 1d,5d,1mo,3mo,6mo,1y,2y,5y,10y,ytd,max\n",
        "        # (optional, default is '1mo')\n",
        "        # period = \"ytd\",\n",
        " \n",
        "        # fetch data by interval (including intraday if period < 60 days)\n",
        "        # valid intervals: 1m,2m,5m,15m,30m,60m,90m,1h,1d,5d,1wk,1mo,3mo\n",
        "        # (optional, default is '1d')\n",
        "        # interval = \"1m\",\n",
        " \n",
        "T = ['TSLA','VLO','ARCC','HOOD','CRSR','EDU','TME','TAL','WPG','QS','EBON','T','VYGVF','FB','AMZN','AAPL','ROOT','NAKD','AMC','GME','PLTR','FUBO','WISH','GEO']\n",
        " \n",
        "intraday_data = yf.download(tickers=T,\n",
        "                            period=\"1d\",\n",
        "                            interval=\"1m\",\n",
        "                            auto_adjust=True)\n",
        "intraday_data.head()\n",
        " \n",
        "intraday_data['Close'].plot(figsize= (10,23),subplots = True)"
      ],
      "execution_count": null,
      "outputs": []
    },
    {
      "cell_type": "markdown",
      "metadata": {
        "id": "wNzLNomFq4Ct"
      },
      "source": [
        "**Mutual Fund Tracker**"
      ]
    },
    {
      "cell_type": "code",
      "metadata": {
        "id": "AWnybIUpqyyF"
      },
      "source": [
        "# Intraday or Minute Frequency Stock Data\n",
        "T = ['VSCIX','VMCIX','VIIIX','VBTIX','VTSNX','SWPPX','SWTSX']\n",
        "\n",
        "intraday_data = yf.download(tickers=T,\n",
        "                            period=\"1mo\",\n",
        "                            interval=\"1d\",\n",
        "                            auto_adjust=True)\n",
        "\n",
        "pd.set_option('max_columns', 10)\n",
        "\n",
        "df = intraday_data['Close'].T\n",
        "\n",
        "a = df # Minimum Price posted within the range # 5y=1259, 3y=756, 2y=505, 1y=252, 6mo=126, 3mo=64, 1mo=20\n",
        "b = intraday_data.Close.max()    # Minimum Price posted within the range\n",
        "c = intraday_data.Close.min()    # Maximum Price Posted within the range \n",
        "# d = intraday_data[0:1].Close.T   # Shows First day's Data \n",
        "\n",
        "\n",
        "print('CURRENT:\\n',a,'MAX:\\n',b,'\\n\\nMIN:',c)\n",
        "\n",
        "\n",
        "# intraday_data['Close'].plot(figsize=(10,10), subplots = True)"
      ],
      "execution_count": null,
      "outputs": []
    },
    {
      "cell_type": "markdown",
      "metadata": {
        "id": "Shr9G9ypeDsS"
      },
      "source": [
        "# **All Reports**\n",
        "\n",
        "**10 important stock ratio:**\n",
        "\n",
        "1.   Operating Income/Sales :  Operating Margin\n",
        "2.   Interest Coverage Ratio (EBIT/Interest Expense) :  For understanding Bankruptcy\n",
        "2.   Debt/Equity : The lower the better\n",
        "3.   Eneterprise Value/EBITDA  \n",
        "4.   PE Ratio : Share Price/Diluted EPS\n",
        "5.   Reinvestment Ratio \n",
        "6.   Earnings/ Share : Net Income/Shares Outstanding\n",
        "7.   Organic Revenue Growth\n",
        "8.   Organic Operating Income Growth\n",
        "9.   Return on Invested Capital\n",
        "\n",
        "\n"
      ]
    },
    {
      "cell_type": "code",
      "metadata": {
        "id": "qr2OzbuVWu7H"
      },
      "source": [
        "# Enter Ticker for analysis\n",
        "\n",
        "TICKER = input(\"Please Enter the Ticker : \")\n",
        "TICK = yf.Ticker(TICKER)\n",
        "\n",
        "##############################################################################################################################\n",
        "#################################################### DO NOT CHANGE ###########################################################\n",
        "##############################################################################################################################\n",
        "wrapper = textwrap.TextWrapper(width=120)\n",
        "\n",
        "print(\n",
        "    'Company Name           : ',TICK.info['longName'],\n",
        "    '\\nTrading Market         : ',TICK.info['market'],\n",
        "    '\\nIndustry Type          : ',TICK.info['industry'])\n",
        "try:\n",
        "    print('Head Office            : ',TICK.info['address1'],',',TICK.info['city'],',',TICK.info['state'],',',TICK.info['country'])\n",
        "except KeyError:\n",
        "    print('Head Office            : ')\n",
        "    \n",
        "print(\n",
        "    'Market Cap             : ',TICK.info['marketCap']/1000000000,'B',\n",
        "    '\\nBusiness Summary       : \\n',wrapper.fill(TICK.info['longBusinessSummary']),\n",
        "    '\\nMean Recommendation    : ',TICK.info['recommendationMean'],\n",
        "    '\\nKey Recommendation     : ',TICK.info['recommendationKey'],\n",
        "    '\\nMORNINGSTAR Overall    : ',TICK.info['morningStarOverallRating'],\n",
        "    '\\n_________________________________________________________________',\n",
        "    '\\nOpen Price             : ',TICK.info['regularMarketOpen'],\n",
        "    '\\nDay High               : ',TICK.info['regularMarketDayHigh'],\n",
        "    '\\nCurrent Price          : ',TICK.info['currentPrice'],\n",
        "    '\\nDay Low                : ',TICK.info['regularMarketDayLow'],\n",
        "    '\\nYesterday Close        : ',TICK.info['regularMarketPreviousClose'],\n",
        "    '\\n52-Week High           : ',TICK.info['fiftyTwoWeekHigh'],\n",
        "    '\\n52-Week Low            : ',TICK.info['fiftyTwoWeekLow'],\n",
        "    '\\n50-Day Average Price   : ',TICK.info['fiftyDayAverage'],\n",
        "    '\\n10-Day Avg Daily Volume: ',TICK.info['averageDailyVolume10Day']/1000000,'M',\n",
        "    '\\nBeta                   : ',TICK.info['beta'])\n",
        "\n",
        "if TICK.info['dateShortInterest'] == None:\n",
        "  print('Short Interest Date    : ',TICK.info['dateShortInterest'])\n",
        "else:\n",
        "  print('Short Interest Date    : ',datetime.utcfromtimestamp(TICK.info['dateShortInterest']).strftime('%b. %d, %Y'))\n",
        "   \n",
        "print('_________________________________________________________________')\n",
        "\n",
        "if TICK.info['returnOnAssets'] == None:\n",
        "  print('Return on Assets       : ',TICK.info['returnOnAssets'])\n",
        "else:\n",
        "  print('Return on Assets       : ',TICK.info['returnOnAssets']*100,'%')            # Return on assets (ROA) is an indicator of how well a company utilizes its assets in terms of profitability. ROA does not take into account a company’s debt, while return on equity (ROE) does. The more the better.\n",
        "\n",
        "if TICK.info['returnOnEquity'] == None:\n",
        "  print('Return on Equity       : ',TICK.info['returnOnEquity'])\n",
        "else:\n",
        "  print('Return on Equity       : ',TICK.info['returnOnEquity']*100,'%')             # Return on equity (ROE) is calculated by dividing a company's net income by its shareholders' equity, thereby arriving at a measure of how efficient a company is in generating profits. Many specify 15% as their minimum acceptable ROE when evaluating investment candidates.\n",
        "    \n",
        "if TICK.info['freeCashflow'] == None:\n",
        "  print('Free Cash Flow         : ',TICK.info['freeCashflow'])\n",
        "else:\n",
        "  print('Free Cash Flow         : ',TICK.info['freeCashflow']/1000000,'M')\n",
        "\n",
        "if TICK.info['operatingCashflow'] == None:\n",
        "  print('Operating Cash Flow    : ',TICK.info['operatingCashflow'])\n",
        "else:\n",
        "  print('Operating Cash Flow    : ',TICK.info['operatingCashflow']/1000000,'M')      # OCF = Revenue - Operating Expenses\n",
        "\n",
        "print(\n",
        "    'Total Cash             : ',TICK.info['totalCash']/1000000,'M',\n",
        "    '\\nGross Profits          : ',TICK.info['grossProfits']/1000000,'M'\n",
        "    )\n",
        "\n",
        "if TICK.info['ebitda'] == None:\n",
        "  print('EBITDA                 : ',TICK.info['ebitda'])\n",
        "else:\n",
        "  print('EBITDA                 : ',TICK.info['ebitda']/1000000,'M')                 # Earnings before interest, taxes, depreciation, and amortization. However, the measure is not based on the U.S. generally accepted accounting principles (GAAP).\n",
        "\n",
        "print(\n",
        "    'EBITDA Margins         : ',TICK.info['ebitdaMargins'],                          # EBITDA margin = (earnings before interest and tax + depreciation + amortization) / total revenue (the higher the EBITDA margins, the better)\n",
        "    '\\nEarnings Growth        : ',TICK.info['earningsGrowth'],\n",
        "    '\\nEnterprise Value (EV)  : ',TICK.info['enterpriseValue']/1000000000,'B',       # EV = Market Cap + Total Debt Debt + Preferred Shares + Minority Interest - Cash at Hand (Price to buy out an entire company)\n",
        "    '\\n% Held by Insiders     : ',TICK.info['heldPercentInsiders']*100,'%',\n",
        "    '\\n% Held by Institutions : ',TICK.info['heldPercentInstitutions']*100,'%',\n",
        "    '\\n_________________________________________________________________',\n",
        "    '\\nForward EPS            : ',TICK.info['forwardEps'],\n",
        "    '\\nTrailing EPS           : ',TICK.info['trailingEps'],\n",
        "    '\\nForward P/E            : ',TICK.info['forwardPE'],                            # It is best to compare P/E ratios within a specific industry.\n",
        "    '\\nCurrent Ratio          : ',TICK.info['currentRatio'],                         # CR = Current Assets [Cash, Inventory, Receiveables] / Current Liabilities [Debt, Other Payables] . CR of 2:1 is desirable. <1 is undesirable. \n",
        "    '\\nQuick Ratio            : ',TICK.info['quickRatio'])                           # QR = (Cash Equivalents + Marketable Securities + Accounts Receivable) / (Current Liabilities) or, QR = (Current Assets - Inventory - Prepaid Expenses) / (Current Liabilities). ACID Test Ratio. <1 means they cannot pay short term bills. \n",
        "\n",
        "try:\n",
        "    print('Trailing P/E           : ',TICK.info['trailingPE'])\n",
        "except KeyError:\n",
        "    print('Trailing P/E           : ')\n",
        "\n",
        "print(  \n",
        "    'PEG                    : ',TICK.info['pegRatio'],                             # PEG = Price/ EPS/ EPS Growth for the next 5 Years (PEG is current year P/E Ratio over 5-yr EPS Growth. PEG <1 is desirable.)\n",
        "    '\\nPrice/Book             : ',TICK.info['priceToBook'],                          # BV  = Asset - Liabilitiy. P/B Ratio <1 is RED Flag. For positive ROE, P/B should be positive too. \n",
        "    '\\nPrice/Sales(last 12M)  : ',TICK.info['priceToSalesTrailing12Months'],         # PSR = Market Value Per Share/ Sales Per Share in a specific period. Should be compared within Industry PSR. Better if positive.\n",
        "    '\\nTotal Cash/Share       : ',TICK.info['totalCashPerShare'],                    # This is money that a company has on hand, as opposed to money it may source from loans or other financing activities. CPS is more reliable than EPS.\n",
        "    '\\nDebt/Equity            : ',TICK.info['debtToEquity'])                         # Debt/Equity = Total Liabilities/ Total Shareholder's Equity (>0 means ability to pay over debt. The more, the better.)\n",
        "\n",
        "if TICK.info['enterpriseToEbitda'] == None:\n",
        "  print('EBITDA/EV              : ',TICK.info['enterpriseToEbitda'])\n",
        "else:\n",
        "  print('EBITDA/EV              : ',100/TICK.info['enterpriseToEbitda'],'%')         # EBITDA/EV uses the cash flows of a business to evaluate the value of a company. The reciprocate multiple EV/EBITDA is used to measure the value of a company.\n",
        "\n",
        "print(\n",
        "    'Revenue/EV             : ',100/TICK.info['enterpriseToRevenue'],'%',            # The enterprise value-to-revenue (EV/R) looks at a companies revenue-generating ability, while the enterprise value-to-EBITDA (EV/EBITDA)—also known as the enterprise multiple—looks at a company’s ability to generate operating cash flows.\n",
        "    '\\nShort Ratio            : ',TICK.info['shortRatio'])                          # The ratio tells an investor if the number of shares short is high or low versus the stock's average trading volume. \n",
        "\n",
        "if TICK.info['payoutRatio'] == None:\n",
        "  print('Payout Ratio %         : ',TICK.info['payoutRatio'])\n",
        "else:\n",
        "  print('Payout Ratio %         : ',TICK.info['payoutRatio']*100,'%')                  # DPR = Total Dividends/ Net Income (or, Dividend Per Share/ Earnings per share). The payout ratio, also known as the dividend payout ratio, shows the percentage of a company's earnings paid out as dividends to shareholders.\n",
        "\n",
        "if TICK.info['profitMargins'] == None:\n",
        "  print('Profit Margins %       : ',TICK.info['profitMargins'])\n",
        "else:\n",
        "  print('Profit Margins %       : ',TICK.info['profitMargins']*100,'%')                # How much profit is kept for the company. Operating Profit Margin = (Operating Income/ Revenue) x 100\n",
        "\n",
        "\n",
        "print('_________________________________________________________________',\n",
        "    '\\nLast Split Factor      : ',TICK.info['lastSplitFactor'])\n",
        "\n",
        "if TICK.info['lastSplitDate'] == None:\n",
        "  print('Last Split Date        : ',TICK.info['lastSplitDate'])\n",
        "else:\n",
        "  print('Last Split Date        : ',datetime.utcfromtimestamp(TICK.info['lastSplitDate']).strftime('%b. %d, %Y'))\n",
        "\n",
        "print('_________________________________________________________________')\n",
        "\n",
        "if TICK.info['dividendYield'] == None:\n",
        "  print('Dividend %             : ',TICK.info['dividendYield'])\n",
        "else:\n",
        "  print('Dividend %             : ',TICK.info['dividendYield']*100,'%')\n",
        "\n",
        "if TICK.info['trailingAnnualDividendYield'] == None:\n",
        "  print('Tr. Annual Div. %      : ',TICK.info['trailingAnnualDividendYield'])\n",
        "else:\n",
        "  print('Tr. Annual Div. %      : ',TICK.info['trailingAnnualDividendYield']*100,'%')\n",
        "  \n",
        "print('5-Yr Avg Dividend %    : ',TICK.info['fiveYearAvgDividendYield'],'%')\n",
        "\n",
        "if TICK.info['exDividendDate'] == None:\n",
        "  print('Ex Dividend Date       : ',TICK.info['exDividendDate'])\n",
        "else:\n",
        "  print('Ex Dividend Date       : ',datetime.utcfromtimestamp(TICK.info['exDividendDate']).strftime('%b. %d, %Y'))\n",
        "\n",
        "if TICK.info['lastDividendDate'] == None:\n",
        "  print('Last Dividend Date     : ',TICK.info['lastDividendDate'])\n",
        "else:\n",
        "  print('Last Dividend Date     : ',datetime.utcfromtimestamp(TICK.info['lastDividendDate']).strftime('%b. %d, %Y'))\n",
        "\n",
        "    \n",
        "print('Last Dividend Amount   : ',TICK.info['lastDividendValue'],\n",
        "      '\\n_________________________________________________________________')\n",
        "\n",
        "\n",
        "## Additional Data from investing.com##\n",
        "import investpy\n",
        "\n",
        "search_result = investpy.search_quotes(text= TICKER, products=['stocks'],\n",
        "                                       countries=['united states'], n_results=1)\n",
        "technical_indicators = search_result.retrieve_technical_indicators(interval='daily')\n",
        "\n",
        "technical_indicators.columns =['Tech. Indicator', 'Buy/Sell Signal','Indicator Value'] # Change Column Names\n",
        "TI = technical_indicators.to_string(index=False) # Drop Index Column\n",
        "\n",
        "pd.set_option('colheader_justify', 'left')\n",
        "\n",
        "print(TI,'\\n_________________________________________________________________')\n",
        "\n",
        "# hist = TICK.history(period='20d')  # Period change to mo,y,d\n",
        "# hist.plot(kind='line',figsize=(15,12),subplots=True) # Change 'Kind' to Bar, Barh, Line, Hist, Box, Kde, density, pie, scatter, hexbin"
      ],
      "execution_count": null,
      "outputs": []
    },
    {
      "cell_type": "markdown",
      "metadata": {
        "id": "4SWlfgQFdZnG"
      },
      "source": [
        "## Technical Signals Terminology\n",
        "\n",
        "1.  **RSI(14) :** 14- Day Relative STrength. Value ranges from 0-100. **RSI<30** means Oversold. **RSI>710** means Overbought. Usually overbought signal used for EXIT. 30-40 means good entry point. Signals are not always accurate. Trade carefully. \n",
        "2.  **STOCH(9,6) :** Stochastic RSI. Uses Stochastic Oscillation Formula. Value ranges from 0-100. **Overbought 80. Oversold 20.** STandard RSI moves slower. STOCH is faster and catches more sensitivity. Helps catch volatile markets. \n",
        "3. **STOCHRSI(14) :** Stochastic RSI for 14-Days. A reading of zero means the RSI is at its lowest level in 14 periods (or whatever lookback period is chosen). A reading of 1 (or 100) means the RSI is at the highest level in the last 14 periods.\n",
        "4. **MACD(12,26) :** Moving average convergence divergence (MACD) is calculated by subtracting the 26-period exponential moving average (EMA) from the 12-period EMA. MACD=12-Period EMA − 26-Period EMA. \n",
        "\n",
        "> Indented block\n",
        "* If MACD is positive, the 12-day EMA is greater than the 26-day.\n",
        "* If MACD is negative, the 26-day EMA is greater than the 12-day.\n",
        "* An increasing positive MACD means that upside momentum is increasing.\n",
        "* A decreasing positive MACD means that upside momentum is slowing.\n",
        "* A decreasing negative (becoming more negative) MACD means that downside momentum is increasing.\n",
        "* An increasing negative (becoming less negative) MACD means that downside momentum is slowing.\n",
        "\n",
        "5. **ADX(14) :** Average Directional Index (ADX). It just considers whether a market is trending or not. If ADX<20, that means the market is not trending. If ADX>20, that means the market is trending. Helps identify if the market is offering an opportunity for good trade or not. \n",
        "6. **Williams %R :** Williams %R, also known as the Williams Percent Range, is a type of momentum indicator that moves between 0 and -100 and measures overbought and oversold levels. The Williams %R may be used to find entry and exit points in the market. Its the inverse of STOCHASTIC RSI(14).\n",
        "\n",
        "> Indented block\n",
        "*  A reading above -20 is overbought.\n",
        "*  A reading below -80 is oversold.\n",
        "\n",
        "7. **CCI(14) :** The CCI indicator, the commodity channel index, is a momentum based indicator that falls under the oscillator classification. Uses current average. \n",
        "8. **ATR(14) :** Average True Range Indicator. ATR measures volatility, taking into account any gaps in the price movement. Typically, the ATR calculation is based on 14 periods, which can be intraday, daily, weekly, or monthly. To measure recent volatility, use a shorter average, such as 2 to 10 periods. For longer-term volatility, use 20 to 50 periods. It is typically derived from the 14-day simple moving average of a series of true range indicators.\n",
        "9. **Highs/Lows(14) :** The high-low index compares stocks that are reaching their 52-week highs with stocks that are hitting their 52-week lows. The high-low index is simply a 10-day moving average of the record high percent indicator, which divides new highs by new highs plus new lows.A high-low index above 50 means more stocks are reaching 52-week highs than reaching 52 lows. Conversely, a reading below 50 shows that more stocks are making 52-week lows compared to stocks making 52-week highs. >50 means Bullish. <50 means bearish. 70 and 30 are key thresholds. \n",
        "10. **ROC :** Rate of Change Indicator (ROC) is an indicator used in technical analysis measuring the percentage change in price of a financial asset between two periods of time.\n",
        "11. **Bull/Bear Power(13) :** Bull/Bear Power is an effective technical indicator developed by Dr. Elder-Ray to measure the strengths of competing groups of bulls & bears. The strength is plotted through daily price distances of day-high and day-low compared to the previously determined moving average. The mostly used average is 13 day exponential moving average (13 day EMA). \n",
        "\n",
        "\n",
        "\n"
      ]
    },
    {
      "cell_type": "code",
      "metadata": {
        "id": "Ej4fchxivDo5"
      },
      "source": [
        "pd.set_option('float_format', '{:.1f}'.format) # Show whole numbers with 1 decimals\n",
        "\n",
        "TICK.quarterly_balancesheet"
      ],
      "execution_count": null,
      "outputs": []
    },
    {
      "cell_type": "code",
      "metadata": {
        "id": "TPt6KCZhnrIv"
      },
      "source": [
        "# Dividend Stocks Tracker\n",
        "# Current code is super slow. Do not run if not needed. Use Batch API call instead.\n",
        "stk_list = ['T','TSLA','AGNC','NLY','ARCC','XOM','BTI','PSEC','LUMN','NRZ','EPD','OHI','BAC','PG','JNJ','DIS','CSCO','MO','OKE','ET','KO','JPM','VZ','WMB','KMI','IRM','CVX','GSK','BAYRY','PSX','BP','AAPL','MSFT','FB','PM','ENB','DOW','ABBV','KHC','PRU','SPG','GILD','O','WBA','NEM','DUK','MRK','PFE','D','AZN','HPE','TFC','AMGN','COP','MDT','SHT','EMR','CTAS','AFL','MKC']\n",
        "\n",
        "rows = []\n",
        "\n",
        "for ticker in stk_list:\n",
        "    stk_container = yf.Ticker(ticker)\n",
        "    try:\n",
        "        stk_info = stk_container.info\n",
        "        rows.append(stk_info)\n",
        "    except IndexError as e:\n",
        "        print(f'{ticker}: {e}') #print the ticker and the error\n",
        "    \n",
        "df = pd.DataFrame(rows)\n"
      ],
      "execution_count": null,
      "outputs": []
    },
    {
      "cell_type": "code",
      "metadata": {
        "id": "fr8eOkIWtkLh"
      },
      "source": [
        "subset_df = df[['symbol', 'longName', 'sector', 'industry', 'currentPrice', 'trailingPE', 'priceToBook', 'trailingEps', 'dividendYield','fiveYearAvgDividendYield','exDividendDate','lastDividendValue','lastDividendDate']]\n",
        "\n",
        "for index, row in subset_df.iterrows():\n",
        "   try:\n",
        "     subset_df.loc[index,\"ExDividendDate\"] = datetime.utcfromtimestamp(row['exDividendDate']).strftime('%b. %d, %Y')\n",
        "   except ValueError:\n",
        "     subset_df.loc[index,\"ExDividendDate\"] = row['exDividendDate']\n",
        "\n",
        "for index, row in subset_df.iterrows():\n",
        "   try:\n",
        "     subset_df.loc[index,\"LastDividendDate\"] = datetime.utcfromtimestamp(row['lastDividendDate']).strftime('%b. %d, %Y')\n",
        "   except ValueError:\n",
        "     subset_df.loc[index,\"LastDividendDate\"] = row['lastDividendDate']\n",
        "\n",
        "\n",
        "subset_df.head(100).sort_values(by=['sector','dividendYield','ExDividendDate'], ascending = [True,False,False]).drop(columns=['exDividendDate','lastDividendDate'])\n"
      ],
      "execution_count": null,
      "outputs": []
    },
    {
      "cell_type": "code",
      "metadata": {
        "id": "L_KBPf3E2CEg"
      },
      "source": [
        "# TICK.actions\n",
        "# TICK.balance_sheet\n",
        "# TICK.calendar\n",
        "# TICK.dividends\n",
        "# TICK.earnings\n",
        "# TICK.financials\n",
        "# TICK.splits\n",
        "# TICK.quarterly_balancesheet\n",
        "# TICK.cashflow\n",
        "# TICK.quarterly_earnings\n",
        "# TICK.quarterly_financials\n",
        "# TICK.major_holders\n",
        "# TICK.mutualfund_holders\n",
        "# TICK.options\n",
        "# TICK.quarterly_cashflow\n",
        "# TICK.recommendations\n",
        "# TICK.sustainability\n",
        "# TICK.info"
      ],
      "execution_count": null,
      "outputs": []
    },
    {
      "cell_type": "markdown",
      "metadata": {
        "id": "On5nG0Xg_BYP"
      },
      "source": [
        "# **Smart Plotting**"
      ]
    },
    {
      "cell_type": "code",
      "metadata": {
        "id": "Vi3E0p1W-I6T"
      },
      "source": [
        "# https://towardsdatascience.com/downloading-stock-data-and-representing-it-visually-6433f7938f98\n",
        "# Define Ticker first\n",
        "# Import History\n",
        "hist = TICK.history(period = \"MAX\")\n",
        "\n",
        "#Reseting the index\n",
        "hist = hist.reset_index()\n",
        "#Converting the datatype to float\n",
        "for i in ['Open', 'High', 'Close', 'Low']:\n",
        "    hist[i] = hist[i].astype('float64')\n",
        "\n",
        "# import plotly.graph_objects as go\n",
        "# import pandas as pd\n",
        "fig = go.Figure([go.Scatter(x=hist['Date'], y=hist['High'])])\n",
        "fig.update_xaxes(\n",
        "    rangeslider_visible=True,\n",
        "    rangeselector=dict(\n",
        "        buttons=list([\n",
        "            dict(count=1, label=\"1m\", step=\"month\",                                        \n",
        "                 stepmode=\"backward\"),\n",
        "            dict(count=6, label=\"6m\", step=\"month\",  \n",
        "                 stepmode=\"backward\"),\n",
        "            dict(count=1, label=\"YTD\", step=\"year\", \n",
        "                 stepmode=\"todate\"),\n",
        "            dict(count=1, label=\"1y\", step=\"year\", \n",
        "                 stepmode=\"backward\"),\n",
        "            dict(step=\"all\")\n",
        "        ])\n",
        "    )\n",
        ")\n",
        "fig.show()"
      ],
      "execution_count": null,
      "outputs": []
    },
    {
      "cell_type": "markdown",
      "metadata": {
        "id": "NH9gy7RId86z"
      },
      "source": [
        "## **Portfolio Tear Sheet**"
      ]
    },
    {
      "cell_type": "code",
      "metadata": {
        "id": "XTDpSXP8H2Qh"
      },
      "source": [
        "## Pyfolio tear sheet\n",
        "\n",
        "# Define the ticker list\n",
        "tickers_list = ['TSLA','ARCC','BTI','ARR','NLY']\n",
        "\n",
        "# Import pandas and create a placeholder for the data\n",
        "import pandas as pd\n",
        "data = pd.DataFrame(columns=tickers_list)\n",
        "\n",
        "# Fetch the data\n",
        "import yfinance as yf\n",
        "for ticker in tickers_list:\n",
        "     data[ticker] = yf.download(ticker, period='3mo',)['Adj Close']\n",
        "        \n",
        "# Compute the returns of individual stocks and then compute the daily mean returns.\n",
        "# The mean return is the daily portfolio returns with the above four stocks.\n",
        "data = data.pct_change().dropna().mean(axis=1)\n",
        "\n",
        "# Import Pyfolio\n",
        "import pyfolio as pf\n",
        "\n",
        "# Get the full tear sheet\n",
        "pf.create_simple_tear_sheet(data)"
      ],
      "execution_count": null,
      "outputs": []
    },
    {
      "cell_type": "markdown",
      "metadata": {
        "id": "8kOmtwbap-J7"
      },
      "source": [
        "**CRYPTO Tracker**"
      ]
    },
    {
      "cell_type": "code",
      "metadata": {
        "id": "a0Hef7Lqkyu0"
      },
      "source": [
        "import requests\n",
        "\n",
        "\n",
        "def get_prices():\n",
        "    coins = [\"BTC\", \"ETH\", \"XRP\", \"LTC\", \"BCH\", \"ADA\", \"DOT\", \"LINK\", \"BNB\", \"XLM\",\"BSV\", \"DOGE\", \"ETC\"]\n",
        "\n",
        "    crypto_data = requests.get(\n",
        "        \"https://min-api.cryptocompare.com/data/pricemultifull?fsyms={}&tsyms=USD\".format(\",\".join(coins))).json()[\"RAW\"]\n",
        "\n",
        "    data = {}\n",
        "    for i in crypto_data:\n",
        "        data[i] = {\n",
        "            \"coin\": i,\n",
        "            \"price\": crypto_data[i][\"USD\"][\"PRICE\"],\n",
        "            \"change_day\": crypto_data[i][\"USD\"][\"CHANGEPCT24HOUR\"],\n",
        "            \"change_hour\": crypto_data[i][\"USD\"][\"CHANGEPCTHOUR\"]\n",
        "        }\n",
        "\n",
        "    return data\n",
        "\n",
        "\n",
        "# if __name__ == \"__main__\":\n",
        "#     print(get_prices())\n",
        "\n",
        "crypto = pd.DataFrame(get_prices())\n",
        "\n",
        "print(crypto.BTC)\n",
        "print('__________')\n",
        "print(crypto.BCH)\n",
        "print('__________')\n",
        "print(crypto.BSV)\n",
        "print('__________')\n",
        "print(crypto.ETH)\n",
        "print('__________')\n",
        "print(crypto.ETC)\n",
        "print('__________')\n",
        "print(crypto.LTC)\n",
        "print('__________')\n",
        "print(crypto.DOGE)\n",
        "\n",
        "# See overall trend\n",
        "T = ['BTC-USD','DOGE-USD','ETH-USD','BSV-USD','BCH-USD','ETC-USD']\n",
        "\n",
        "intraday_data = yf.download(tickers=T,\n",
        "                            period=\"5d\",\n",
        "                            interval=\"1m\",\n",
        "                            auto_adjust=True)\n",
        "intraday_data.head()\n",
        "\n",
        "intraday_data['Close'].plot(figsize= (15,10),subplots = True)"
      ],
      "execution_count": null,
      "outputs": []
    },
    {
      "cell_type": "code",
      "metadata": {
        "id": "SM21RwbdQs6f"
      },
      "source": [
        "# Plot diferent time\n",
        "TICK = yf.Ticker('XOM')\n",
        "hist = TICK.history(period = \"MAX\")\n",
        "\n",
        "#Reseting the index\n",
        "hist = hist.reset_index()\n",
        "#Converting the datatype to float\n",
        "for i in ['Open', 'High', 'Close', 'Low']:\n",
        "    hist[i] = hist[i].astype('float64')\n",
        "\n",
        "# import plotly.graph_objects as go\n",
        "# import pandas as pd\n",
        "fig = go.Figure([go.Scatter(x=hist['Date'], y=hist['High'])])\n",
        "fig.update_xaxes(\n",
        "    rangeslider_visible=True,\n",
        "    rangeselector=dict(\n",
        "        buttons=list([\n",
        "            dict(count=1, label=\"1m\", step=\"month\",                                        \n",
        "                 stepmode=\"backward\"),\n",
        "            dict(count=6, label=\"6m\", step=\"month\",  \n",
        "                 stepmode=\"backward\"),\n",
        "            dict(count=1, label=\"YTD\", step=\"year\", \n",
        "                 stepmode=\"todate\"),\n",
        "            dict(count=1, label=\"1y\", step=\"year\", \n",
        "                 stepmode=\"backward\"),\n",
        "            dict(step=\"all\")\n",
        "        ])\n",
        "    )\n",
        ")\n",
        "fig.show()"
      ],
      "execution_count": null,
      "outputs": []
    },
    {
      "cell_type": "code",
      "metadata": {
        "id": "fgsnitVaEz7k"
      },
      "source": [
        "# Market \n",
        "T = ['^GSPC','^DJI','^IXIC','^NYA','^RUT']\n",
        "\n",
        "intraday_data = yf.download(tickers=T,\n",
        "                            period=\"1d\",\n",
        "                            interval=\"1m\",\n",
        "                            auto_adjust=True)\n",
        "\n",
        "pd.set_option('max_columns', 10)\n",
        "\n",
        "df = intraday_data['Close']\n",
        "print(df.mean())\n",
        "df.plot(figsize = (10,8), subplots = True)"
      ],
      "execution_count": null,
      "outputs": []
    },
    {
      "cell_type": "markdown",
      "metadata": {
        "id": "UI_2H1AGMa8E"
      },
      "source": [
        "**DAILY TRACK**"
      ]
    },
    {
      "cell_type": "code",
      "metadata": {
        "id": "uociwkanU59A"
      },
      "source": [
        "# a = pd.read_html('https://www.marketwatch.com/tools/screener/premarket')\n",
        "# a = pd.read_html('https://www.marketwatch.com/tools/screener/after-hours')\n",
        "# a = pd.read_html('https://www.marketwatch.com/tools/mutual-fund/top25largest')\n",
        "# a = pd.read_html('https://www.marketwatch.com/tools/upgrades-downgrades')\n",
        "# a = pd.read_html('https://www.marketwatch.com/tools/ipo-calendar')\n",
        "\n",
        "a = pd.read_html('https://www.tradingview.com/markets/stocks-usa/market-movers-losers')\n",
        "# a = pd.read_html('https://www.tradingview.com/markets/stocks-usa/market-movers-gainers')\n",
        "# a = pd.read_html('https://www.tradingview.com/markets/stocks-usa/market-movers-active')\n",
        "# a = pd.read_html('https://www.tradingview.com/markets/stocks-usa/market-movers-volatile')\n",
        "# a = pd.read_html('https://www.tradingview.com/markets/stocks-usa/market-movers-overbought')\n",
        "# a = pd.read_html('https://www.tradingview.com/markets/stocks-usa/market-movers-oversold')\n",
        "\n",
        "\n",
        "pd.set_option(\"display.max_rows\",None)\n",
        "pd.set_option(\"display.max_columns\",None)\n",
        "# pd.set_option('max_colwidth', 400)\n",
        "pd.options.display.width=None\n",
        "\n",
        "df = pd.concat(a)\n",
        "print('Original Columns: ',df.columns)\n",
        "\n",
        "df.rename(columns = {'Unnamed: 0':'Ticker','Unnamed: 1':'Last Price','Unnamed: 2':'% Change','Unnamed: 3':'Change','Unnamed: 4':'Rating',  # Change column names for tradingview. Turn off for marketwatch\n",
        "                      'Unnamed: 5':'Volume','Unnamed: 6':'Market Cap','Unnamed: 7':'P/E','Unnamed: 8':'EPS (TTM)',\n",
        "                      'Unnamed: 9':'Employees','Unnamed: 10':'Sector'}, inplace = True)\n",
        "\n",
        "df \n",
        "\n",
        "# df.sort_values(by='Market Cap', ascending= False)"
      ],
      "execution_count": null,
      "outputs": []
    },
    {
      "cell_type": "markdown",
      "metadata": {
        "id": "27nNfVQfBJnv"
      },
      "source": [
        "**MARKETS**"
      ]
    },
    {
      "cell_type": "code",
      "metadata": {
        "id": "qp1rYE6wO8uy"
      },
      "source": [
        "a = pd.read_html('https://markets.businessinsider.com/index/components/dow_jones')      # Dow Jones Industrial Average\n",
        "# a = pd.read_html('https://markets.businessinsider.com/index/components/s&p_500')        # S&P500 Index\n",
        "# a = pd.read_html('https://markets.businessinsider.com/index/components/nasdaq_100')     # NASDAQ 100 Index\n",
        "# a = pd.read_html('https://markets.businessinsider.com/index/components/ftse_100')       # FTSE Russell 100 Index\n",
        "# a = pd.read_html('https://markets.businessinsider.com/index/components/euro_stoxx_50')  # EURO Stoxx 50 Index\n",
        "# a = pd.read_html('https://markets.businessinsider.com/index/components/dax')            # DAX Europe Market Performance Index\n",
        "\n",
        "pd.set_option(\"display.max_rows\",None)\n",
        "pd.set_option(\"display.max_columns\",None)\n",
        "# pd.set_option('max_colwidth', 400)\n",
        "# pd.options.display.width=None\n",
        "\n",
        "df = pd.concat(a)\n",
        "\n",
        "print('Original Columns: ',df.columns)\n",
        "df\n"
      ],
      "execution_count": null,
      "outputs": []
    },
    {
      "cell_type": "markdown",
      "metadata": {
        "id": "FgdtPkIiqfmM"
      },
      "source": [
        "**PORTFOLIO**"
      ]
    },
    {
      "cell_type": "code",
      "metadata": {
        "id": "nVwcOg9OxY3d"
      },
      "source": [
        "import datetime as dt\n",
        "import pandas_datareader.data as web\n",
        "###################################################################################\n",
        "# DF needs to be updated. \n",
        "###################################################################################\n",
        "df = pd.DataFrame({'Ticker': ['ACAD', 'AL', 'BABA', 'AMRN', 'AAL', 'AEO', 'FOLD', 'NLY', 'AM', 'AIV', 'AAPL', 'APTO', 'ARCC', 'T', 'ACB', 'BBD', 'BBDO', 'BSBR', 'BCS', 'BBBY', 'BRK.B', 'BMRN', 'BDRBF', 'BRFS', 'BRSP', 'BTI', 'BP', 'CPE', 'CGC', 'CIG', 'CIM', 'CNK', 'CXW', 'CRSR', 'COTY', 'CS', 'DAL', 'DHT', 'DIDI', 'DBRG', 'EHTH', 'ENBL', 'ET', 'ENLC', 'EURN', 'EVFM', 'EXPR', 'XOM', 'FITB', 'FL', 'F', 'FOSL', 'FRO', 'FUBO', 'GCI', 'GNUS', 'GEO', 'GGB', 'GT', 'GRPN', 'HST', 'HUIZ', 'ING', 'IVZ', 'IVR', 'IRM', 'KNDI', 'KIM', 'KSS', 'KOS', 'LADR', 'LEVI', 'MAC', 'M', 'MRO', 'MCD', 'MFA', 'MIST', 'MFG', 'MPLN', 'NYMT', 'NMR', 'JWN', 'OXY', 'ORCC', 'ROYTL', 'PLTR', 'PFE', 'PDD', 'PBI', 'PAA', 'PROG', 'UCO', 'PSEC', 'RPAI', 'HOOD', 'RYCEY', 'ROOT', 'SABR', 'SAN', 'SRPT', 'RDS.B', 'SIX', 'LUV', 'SPR', 'SU', 'TTCF', 'TSLA', 'TTI', 'TXMD', 'RIG', 'TKC', 'TWO', 'UA', 'USO', 'UNM', 'VLO', 'VTRS', 'WBA', 'WFC', 'WMC', 'WBK', 'WRK', 'TAL', 'T', 'AAIC', 'VYGVF', 'FNMAS', 'FNMAT', 'FMCKJ', 'FNMAH', 'VIAC', 'SRPT', 'EHTH', 'ORAN', 'BAYRY', 'PUK', 'CS', 'PLNHF', 'BAC-B', 'FLO', 'HPE', 'NWN', 'PAGP', 'NS-B', 'AIV', 'FB', 'WPG', 'EDU', 'WPG-H', 'VRYYF', 'GOCO', 'FGEN', 'QS', 'RIDE', 'CRSR', 'TME', 'EBON', 'NAKD', 'PSTH', 'BLUE', 'WISH', 'AROC', 'NKLA', 'MRCY', 'HITI', 'CHMI', 'AVTBF', 'ARRY', 'BGS', 'KGC', 'ABR', 'TSLA', 'AGNC', 'VST', 'NI', 'AMZN', 'VRM', 'MITT-B', 'MO', 'DKNG', 'ARI', 'NOK', 'TTCF', 'GILD', 'O', 'IBM', 'SPCE'],\n",
        "                   'No. of Shares': [10, 1.01, 1, 20, 10, 20.103, 15, 10.887, 5.471, 15, 1.015, 25, 10.293, 5.092, 30, 11.231, 5.122, 5, 35, 10, 3, 3, 150, 25, 5.073, 3, 17.481, 5, 5, 22.546, 5.471, 10, 50, 1, 120, 1.011, 25, 5, 32, 50, 11, 56.249, 64.733, 53.101, 61.17, 50, 20, 5.1, 5.167, 1.008, 25, 10, 30.314, 20.895, 10, 20, 84, 10.049, 25, 3, 10, 10, 10, 35.858, 180.465, 10.462, 12.007, 10.204, 10, 35, 29.284, 10, 5.158, 10, 15.062, 1.018, 155.829, 10, 100, 10, 85.715, 15, 23, 29.023, 13.142, 50, 6, 5, 0.905, 5.173, 10.461, 25, 2, 10.79, 5.041, 10, 225.604, 25, 16, 41, 2, 16.437, 4, 27, 3, 10.118, 11, 0.828, 50, 30, 130, 18, 10.815, 20, 5, 5.147, 1.725, 12, 1.036, 5.039, 20.873, 5, 5.055, 14, 20.0924, 20, 50, 35, 26, 20, 20, 8, 5, 5, 10, 25, 3, 15, 1, 5, 5, 5, 2, 15, 10.4632, 50, 1, 140, 55, 35, 100, 18, 15, 10, 15, 10, 15, 55, 175, 10, 5, 17, 20, 20, 1, 3, 15.4362, 75, 5, 1.0165, 20, 5, 1.1272, 16, 5, 2, 0.0254, 4, 5, 5.1813, 5, 10.227, 25, 15, 5, 5.0169, 5, 10],\n",
        "                   'Average Cost': [21.88, 9.2, 221, 3.95, 10.27, 6.97, 10.97, 5.68, 4, 4.58, 124.75, 3.45, 16.18, 26.53, 6.04, 3.27, 2.88, 4.78, 5.59, 5.4, 176.5, 74.5, 0.2924, 3.5, 3.93, 34.33, 17.28, 6.45, 16.25, 1.53, 7.92, 7.88, 7.72, 33, 3.33, 7.05, 20.49, 5, 12.87, 1.55, 64.55, 2.15, 5.22, 1.78, 8.82, 2.13, 4.65, 32.18, 16.56, 20.52, 4.96, 3, 6.53, 26.36, 1.19, 1.55, 7.32, 1.87, 6.34, 15.33, 10, 5.5, 5, 7.35, 2.74, 23.31, 5.6, 8.59, 19, 0.8586, 7.55, 12.5, 5.62, 4.9, 3.52, 172.66, 1.29, 2.01, 2.57, 6.05, 1.78, 5.2, 14.75, 10.4, 11.77, 0.35, 26.42, 34.75, 127.02, 2.37, 5.51, 2.11, 34.83, 5.32, 4.2, 38, 1.77, 11.21, 4.27, 2.11, 82.83, 29.79, 11.79, 26.9, 17.5, 13.08, 19.3, 639.82, 0.359, 1.35, 0.9702, 4.57, 2.79, 7.19, 26.74, 14.85, 66.66, 15.12, 36.82, 22.28, 2.02, 11.8, 25.08, 21.78, 28.27, 3.97, 14.98, 3.72, 3.31, 3.67, 3.42, 43.88, 81.6, 50.5, 11.82, 13.95, 27.12, 10.43, 5.1, 27, 21.7, 12, 43.25, 8.52, 17.59, 4.71, 249.5, 3.9, 6.75, 6.94, 3.34, 12.21, 16.96, 25.85, 8.42, 31.2, 12.24, 2.82, 0.65, 21.8, 29, 10.82, 8.56, 10.4, 61.25, 7.5, 9.4, 0.51, 14, 26.56, 6.15, 17.5, 709.65, 15.5, 16.83, 21.25, 2941.34, 33.63, 19.75, 41.59, 43, 11.24, 4.13, 16.75, 57.58, 59.09, 123.27, 20.75],\n",
        "                   'Brokerage': ['Robinhood', 'Robinhood', 'Robinhood', 'Robinhood', 'Robinhood', 'Robinhood', 'Robinhood', 'Robinhood', 'Robinhood', 'Robinhood', 'Robinhood', 'Robinhood', 'Robinhood', 'Robinhood', 'Robinhood', 'Robinhood', 'Robinhood', 'Robinhood', 'Robinhood', 'Robinhood', 'Robinhood', 'Robinhood', 'Robinhood', 'Robinhood', 'Robinhood', 'Robinhood', 'Robinhood', 'Robinhood', 'Robinhood', 'Robinhood', 'Robinhood', 'Robinhood', 'Robinhood', 'Robinhood', 'Robinhood', 'Robinhood', 'Robinhood', 'Robinhood', 'Robinhood', 'Robinhood', 'Robinhood', 'Robinhood', 'Robinhood', 'Robinhood', 'Robinhood', 'Robinhood', 'Robinhood', 'Robinhood', 'Robinhood', 'Robinhood', 'Robinhood', 'Robinhood', 'Robinhood', 'Robinhood', 'Robinhood', 'Robinhood', 'Robinhood', 'Robinhood', 'Robinhood', 'Robinhood', 'Robinhood', 'Robinhood', 'Robinhood', 'Robinhood', 'Robinhood', 'Robinhood', 'Robinhood', 'Robinhood', 'Robinhood', 'Robinhood', 'Robinhood', 'Robinhood', 'Robinhood', 'Robinhood', 'Robinhood', 'Robinhood', 'Robinhood', 'Robinhood', 'Robinhood', 'Robinhood', 'Robinhood', 'Robinhood', 'Robinhood', 'Robinhood', 'Robinhood', 'Robinhood', 'Robinhood', 'Robinhood', 'Robinhood', 'Robinhood', 'Robinhood', 'Robinhood', 'Robinhood', 'Robinhood', 'Robinhood', 'Robinhood', 'Robinhood', 'Robinhood', 'Robinhood', 'Robinhood', 'Robinhood', 'Robinhood', 'Robinhood', 'Robinhood', 'Robinhood', 'Robinhood', 'Robinhood', 'Robinhood', 'Robinhood', 'Robinhood', 'Robinhood', 'Robinhood', 'Robinhood', 'Robinhood', 'Robinhood', 'Robinhood', 'Robinhood', 'Robinhood', 'Robinhood', 'Robinhood', 'Robinhood', 'Robinhood', 'Robinhood', 'Schwab Cont', 'Schwab Cont', 'Schwab Cont', 'Schwab Cont', 'Schwab Broker', 'Schwab Broker', 'Schwab Broker', 'Schwab Broker', 'Schwab Broker', 'Schwab Broker', 'Schwab Broker', 'Schwab Broker', 'Schwab Broker', 'Schwab Broker', 'Schwab Broker', 'Schwab Broker', 'Schwab Broker', 'Schwab Broker', 'Schwab Broker', 'Schwab Broker', 'Schwab Broker', 'Schwab Broker', 'Schwab Broker', 'Schwab Broker', 'Schwab Roth', 'Schwab Roth', 'Schwab Roth', 'Schwab Roth', 'Schwab Roth', 'Schwab Roth', 'Schwab Roth', 'Schwab Roth', 'Schwab Roth', 'Schwab Roth', 'Schwab Roth', 'Schwab Roth', 'Schwab Roth', 'Schwab Roth', 'Schwab Roth', 'Schwab Roth', 'Schwab Roth', 'Schwab Roth', 'Schwab Roth', 'Schwab Roth', 'Schwab Roth', 'Schwab Roth', 'Schwab Roth', 'Schwab Roth', 'Schwab Roth', 'Schwab Roth', 'Schwab Roth', 'Schwab Roth', 'Schwab Roth', 'Schwab Roth', 'Schwab Roth', 'Schwab Roth', 'Schwab Roth', 'Schwab Roth', 'Schwab Roth', 'Schwab Roth', 'Schwab Roth', 'Schwab Roth', 'Schwab Roth', 'Schwab Roth', 'Schwab Roth']\n",
        "                   })\n",
        "\n",
        "pd.set_option(\"display.max_rows\",None)\n",
        "pd.set_option(\"display.max_columns\",None)\n",
        "\n",
        "for index, row in df.iterrows():\n",
        "   df.loc[index,\"Cost Basis\"] = row['No. of Shares']*row['Average Cost']\n",
        "\n",
        "df.columns\n",
        "\n",
        "###################################################################################\n",
        "# First, create a new blank DataFrame to bring in latest prices for defined tickers\n",
        "my_columns = ['Ticker', 'Current Price', 'Previous Close', 'Day High', 'Day Change %', '52-Wk High', '52-Wk Low', 'YTD Change' , 'PE Ratio', 'Market Cap(B)']\n",
        "final_dataframe = pd.DataFrame(columns = my_columns)\n",
        "final_dataframe\n",
        "\n",
        "# Function sourced from \n",
        "# https://stackoverflow.com/questions/312443/how-do-you-split-a-list-into-evenly-sized-chunks\n",
        "def chunks(lst, n):\n",
        "    \"\"\"Yield successive n-sized chunks from lst.\"\"\"\n",
        "    for i in range(0, len(lst), n):\n",
        "        yield lst[i:i + n]\n",
        "\n",
        "# Batch API call only limits to 100 tickers at a time. So, lets break the list to a chunk of 50 Tickers at a time \n",
        "# Using Batch API\n",
        "symbol_groups = list(chunks(df['Ticker'], 50))\n",
        "symbol_strings = []\n",
        "\n",
        "for i in range(0, len(symbol_groups)):\n",
        "    symbol_strings.append(','.join(symbol_groups[i]))\n",
        "    # print(symbol_strings[i])\n",
        "##################################################################################\n",
        "# Now send the ticker lists to a batch API call and bring in current prices\n",
        "IEX_CLOUD_API_TOKEN = 'Tpk_059b97af715d417d9f49f50b51b1c448'\n",
        "for symbol_string in symbol_strings:\n",
        "    # print(symbol_strings)\n",
        "    batch_api_call_url = f'https://sandbox.iexapis.com/stable/stock/market/batch/?types=quote&symbols={symbol_string}&token={IEX_CLOUD_API_TOKEN}'\n",
        "    data = requests.get(batch_api_call_url).json()\n",
        "    for symbol in symbol_string.split(','):\n",
        "        final_dataframe = final_dataframe.append(\n",
        "                                                pd.Series([symbol, \n",
        "                                                data[symbol]['quote']['latestPrice'],\n",
        "                                                data[symbol]['quote']['previousClose'],\n",
        "                                                data[symbol]['quote']['high'],\n",
        "                                                data[symbol]['quote']['changePercent'],\n",
        "                                                data[symbol]['quote']['week52High'], \n",
        "                                                data[symbol]['quote']['week52Low'], \n",
        "                                                data[symbol]['quote']['ytdChange'], \n",
        "                                                data[symbol]['quote']['peRatio'], \n",
        "                                                data[symbol]['quote']['marketCap'],\n",
        "                                                ], \n",
        "                                              index = my_columns), \n",
        "                                             ignore_index = True)\n",
        "        \n",
        "final_dataframe\n",
        "# Merging new Dataframe with previously defined dataframe based on a common column value \n",
        "portfolio = df.merge(final_dataframe, how='left', on='Ticker').drop_duplicates(subset=['Ticker','No. of Shares']).reset_index(drop=True)\n",
        "#dt.utcfromtimestamp(TICK.info['lastDividendDate']).strftime('%b. %d, %Y'))\n",
        "# Create a new column for total return\n",
        "for index, row in portfolio.iterrows():\n",
        "   try:\n",
        "     portfolio.loc[index,\"Total Return\"] = (row['Current Price']*row['No. of Shares']) - row['Cost Basis']\n",
        "   except:\n",
        "     portfolio.loc[index,\"Total Return\"] = 'None'\n",
        "\n",
        "portfolio.sort_values(by='Day Change %', ascending= False)\n",
        "# portfolio.groupby(by=['Brokerage']).sum()"
      ],
      "execution_count": null,
      "outputs": []
    },
    {
      "cell_type": "code",
      "metadata": {
        "id": "O3g1YaqGQ-vx"
      },
      "source": [
        "a = pd.read_html('https://www.liberatedstocktrader.com/sp-500-companies/')      # Pull a list of S&P500 Tickers from online \n",
        "df = pd.concat(a)\n",
        "sp500 = df.drop([0,0,0]).reset_index()"
      ],
      "execution_count": null,
      "outputs": []
    },
    {
      "cell_type": "code",
      "metadata": {
        "id": "xTMUO4po8bau"
      },
      "source": [
        "IEX_CLOUD_API_TOKEN = 'Tpk_059b97af715d417d9f49f50b51b1c448'\n",
        "symbol='AAPL'\n",
        "api_url = f'https://sandbox.iexapis.com/stable/stock/{symbol}/quote?token={IEX_CLOUD_API_TOKEN}'\n",
        "data = requests.get(api_url).json()\n",
        "data\n",
        "\n",
        "\n",
        "# data['latestPrice']\n",
        "# data['marketCap']\n",
        "\n",
        "my_columns = ['Ticker', 'Price','Market Capitalization', 'Number Of Shares to Buy']\n",
        "final_dataframe = pd.DataFrame(columns = my_columns)\n",
        "final_dataframe\n",
        "\n",
        "# final_dataframe = final_dataframe.append(\n",
        "#                                         pd.Series(['AAPL', \n",
        "#                                                    data['latestPrice'], \n",
        "#                                                    data['marketCap'], \n",
        "#                                                    'N/A'], \n",
        "#                                                   index = my_columns), \n",
        "#                                         ignore_index = True)\n",
        "# final_dataframe\n",
        "\n",
        "# Function sourced from \n",
        "# https://stackoverflow.com/questions/312443/how-do-you-split-a-list-into-evenly-sized-chunks\n",
        "def chunks(lst, n):\n",
        "    \"\"\"Yield successive n-sized chunks from lst.\"\"\"\n",
        "    for i in range(0, len(lst), n):\n",
        "        yield lst[i:i + n]\n",
        "\n",
        "# Using Batch API\n",
        "symbol_groups = list(chunks(sp500[1], 50))\n",
        "symbol_strings = []\n",
        "\n",
        "for i in range(0, len(symbol_groups)):\n",
        "    symbol_strings.append(','.join(symbol_groups[i]))\n",
        "    print(symbol_strings[i])"
      ],
      "execution_count": null,
      "outputs": []
    },
    {
      "cell_type": "code",
      "metadata": {
        "id": "jTlDffdY-Q9V"
      },
      "source": [
        "for symbol_string in symbol_strings:\n",
        "#     print(symbol_strings)\n",
        "    batch_api_call_url = f'https://sandbox.iexapis.com/stable/stock/market/batch/?types=quote&symbols={symbol_string}&token={IEX_CLOUD_API_TOKEN}'\n",
        "    data = requests.get(batch_api_call_url).json()\n",
        "    for symbol in symbol_string.split(','):\n",
        "        final_dataframe = final_dataframe.append(\n",
        "                                        pd.Series([symbol, \n",
        "                                                   data[symbol]['quote']['latestPrice'], \n",
        "                                                   data[symbol]['quote']['marketCap'], \n",
        "                                                   'N/A'], \n",
        "                                                  index = my_columns), \n",
        "                                        ignore_index = True)\n",
        "        \n",
        "    \n",
        "final_dataframe"
      ],
      "execution_count": null,
      "outputs": []
    },
    {
      "cell_type": "code",
      "metadata": {
        "id": "LdyYTCTB3-jR"
      },
      "source": [
        "# Python Program to find Compound Interest\n",
        "\n",
        "import math\n",
        "\n",
        "# Rounding Function obtained from https://realpython.com/python-rounding/\n",
        "def truncate(n, decimals=0):\n",
        "    multiplier = 10 ** decimals\n",
        "    return int(n * multiplier) / multiplier\n",
        "\n",
        "princ_amount = float(input(\" Please Enter the Principal Amount : \"))\n",
        "rate_of_int = float(input(\" Please Enter the Rate Of Interest   : \"))\n",
        "time_period = float(input(\" Please Enter Time period in Years   : \"))\n",
        "\n",
        "ci_future = truncate((princ_amount * (math.pow((1 + rate_of_int / 100), time_period))),2)\n",
        "compound_int = truncate((ci_future - princ_amount),2)\n",
        "interest_pct = truncate(((compound_int/(princ_amount*time_period))*100),2)\n",
        "\n",
        "print(\"Future Compound Interest for Principal Amount {0} = {1}\".format(princ_amount, ci_future))\n",
        "print(\"Compound Interest for Principal Amount {0} = {1}\".format(princ_amount, compound_int))\n",
        "print(\"Compound Interest % for Principal Amount {0} = {1}\".format(princ_amount, interest_pct))"
      ],
      "execution_count": null,
      "outputs": []
    },
    {
      "cell_type": "markdown",
      "metadata": {
        "id": "j1xjlyjizZxh"
      },
      "source": [
        "# Dhaka Stock Exchange"
      ]
    },
    {
      "cell_type": "code",
      "metadata": {
        "id": "P9aVdeQy3aIe"
      },
      "source": [
        "import investpy\n",
        "\n",
        "def index_hist(startdate, enddate, index): \n",
        "  df = investpy.get_index_historical_data(index=index, country='Bangladesh', from_date=startdate, to_date=enddate)\n",
        "  df = df.reset_index().sort_values(by=\"Date\", ascending=False)\n",
        "  return (df)"
      ],
      "execution_count": 56,
      "outputs": []
    },
    {
      "cell_type": "code",
      "metadata": {
        "id": "81Wchl4NPo1d"
      },
      "source": [
        "bdstocks = ['1JANATAMF', '1STPRIMFMF', 'AAMRANET', 'AAMRATECH', 'ABB1STMF', 'ABBANK', 'ACFL', 'ACI', 'ACIFORMULA', 'ACMELAB', 'ACTIVEFINE', 'ADNTEL', 'ADVENT', 'AFCAGRO', 'AFTABAUTO', 'AGNISYSL', 'AGRANINS', 'AIBL1STIMF', 'AIL', 'AL-HAJTEX', 'ALARABANK', 'ALIF', 'ALLTEX', 'AMANFEED', 'AMBEEPHA', 'AMCL(PRAN)', 'ANLIMAYARN', 'ANWARGALV', 'AOL', 'APEXFOODS', 'APEXFOOT', 'APEXSPINN', 'APEXTANRY', 'APOLOISPAT', 'ARAMIT', 'ARAMITCEM', 'ARGONDENIM', 'ASIAINS', 'ASIAPACINS', 'ATCSLGF', 'ATLASBANG', 'AZIZPIPES', 'BANGAS', 'BANKASIA', 'BARKAPOWER', 'BATASHOE', 'BATBC', 'BAYLEASING', 'BBS', 'BBSCABLES', 'BDAUTOCA', 'BDCOM', 'BDFINANCE', 'BDLAMPS', 'BDSERVICE', 'BDTHAI', 'BDWELDING', 'BEACHHATCH', 'BEACONPHAR', 'BENGALWTL', 'BERGERPBL', 'BEXIMCO', 'BGIC', 'BIFC', 'BNICL', 'BPML', 'BRACBANK', 'BSC', 'BSCCL', 'BSRMLTD', 'BSRMSTEEL', 'BXPHARMA', 'BXSYNTH', 'CAPMBDBLMF', 'CAPMIBBLMF', 'CENTRALINS', 'CENTRALPHL', 'CITYBANK', 'CITYGENINS', 'CNATEX', 'CONFIDCEM', 'CONTININS', 'COPPERTECH', 'CRYSTALINS', 'CVOPRL', 'DACCADYE', 'DAFODILCOM', 'DBH', 'DBH1STMF', 'DELTALIFE', 'DELTASPINN', 'DESCO', 'DESHBANDHU', 'DGIC', 'DHAKABANK', 'DHAKAINS', 'DOMINAGE', 'DOREENPWR', 'DSHGARME', 'DSSL', 'DULAMIACOT', 'DUTCHBANGL', 'EASTERNINS', 'EASTLAND', 'EASTRNLUB', 'EBL', 'EBL1STMF', 'EBLNRBMF', 'ECABLES', 'EGEN', 'EHL', 'EIL', 'EMERALDOIL', 'ENVOYTEX', 'EPGL', 'ESQUIRENIT', 'ETL', 'EXIM1STMF', 'EXIMBANK', 'FAMILYTEX', 'FARCHEM', 'FAREASTFIN', 'FAREASTLIF', 'FASFIN', 'FBFIF', 'FEDERALINS', 'FEKDIL', 'FINEFOODS', 'FIRSTFIN', 'FIRSTSBANK', 'FORTUNE', 'FUWANGCER', 'FUWANGFOOD', 'GBBPOWER', 'GEMINISEA', 'GENEXIL', 'GENNEXT', 'GHAIL', 'GHCL', 'GLOBALINS', 'GOLDENSON', 'GP', 'GPHISPAT', 'GQBALLPEN', 'GRAMEENS2', 'GREENDELMF', 'GREENDELT', 'GSPFINANCE', 'HAKKANIPUL', 'HEIDELBCEM', 'HFL', 'HRTEX', 'HWAWELLTEX', 'IBNSINA', 'IBP', 'ICB', 'ICB3RDNRB', 'ICBAGRANI1', 'ICBAMCL2ND', 'ICBEPMF1S1', 'ICBIBANK', 'ICBSONALI1', 'IDLC', 'IFADAUTOS', 'IFIC', 'IFIC1STMF', 'IFILISLMF1', 'ILFSL', 'IMAMBUTTON', 'INDEXAGRO', 'INTECH', 'INTRACO', 'IPDC', 'ISLAMIBANK', 'ISLAMICFIN', 'ISLAMIINS', 'ISNLTD', 'ITC', 'JAMUNABANK', 'JAMUNAOIL', 'JANATAINS', 'JMISMDL', 'JUTESPINN', 'KARNAPHULI', 'KAY&QUE', 'KBPPWBIL', 'KDSALTD', 'KEYACOSMET', 'KOHINOOR', 'KPCL', 'KPPL', 'KTL', 'LANKABAFIN', 'LEGACYFOOT', 'LHBL', 'LIBRAINFU', 'LINDEBD', 'LRBDL', 'LRGLOBMF1', 'MAKSONSPIN', 'MALEKSPIN', 'MARICO', 'MATINSPINN', 'MBL1STMF', 'MEGCONMILK', 'MEGHNACEM', 'MEGHNALIFE', 'MEGHNAPET', 'MERCANBANK', 'MERCINS', 'METROSPIN', 'MHSML', 'MICEMENT', 'MIDASFIN', 'MIRACLEIND', 'MIRAKHTER', 'MITHUNKNIT', 'MJLBD', 'MLDYEING', 'MONNOAGML', 'MONNOCERA', 'MPETROLEUM', 'MTB', 'NAHEEACP', 'NATLIFEINS', 'NAVANACNG', 'NBL', 'NCCBANK', 'NCCBLMF1', 'NEWLINE', 'NFML', 'NHFIL', 'NITOLINS', 'NLI1STMF', 'NORTHERN', 'NORTHRNINS', 'NPOLYMAR', 'NRBCBANK', 'NTC', 'NTLTUBES', 'NURANI', 'OAL', 'OIMEX', 'OLYMPIC', 'ONEBANKLTD', 'ORIONINFU', 'ORIONPHARM', 'PADMALIFE', 'PADMAOIL', 'PARAMOUNT', 'PDL', 'PENINSULA', 'PEOPLESINS', 'PF1STMF', 'PHARMAID', 'PHENIXINS', 'PHOENIXFIN', 'PHPMF1', 'PIONEERINS', 'PLFSL', 'POPULAR1MF', 'POPULARLIF', 'POWERGRID', 'PRAGATIINS', 'PRAGATILIF', 'PREMIERBAN', 'PREMIERCEM', 'PREMIERLEA', 'PRIME1ICBA', 'PRIMEBANK', 'PRIMEFIN', 'PRIMEINSUR', 'PRIMELIFE', 'PRIMETEX', 'PROGRESLIF', 'PROVATIINS', 'PTL', 'PUBALIBANK', 'PURABIGEN', 'QUASEMIND', 'QUEENSOUTH', 'RAHIMAFOOD', 'RAHIMTEXT', 'RAKCERAMIC', 'RANFOUNDRY', 'RDFOOD', 'RECKITTBEN', 'REGENTTEX', 'RELIANCE1', 'RELIANCINS', 'RENATA', 'RENWICKJA', 'REPUBLIC', 'RINGSHINE', 'RNSPIN', 'ROBI', 'RSRMSTEEL', 'RUNNERAUTO', 'RUPALIBANK', 'RUPALIINS', 'RUPALILIFE', 'SAFKOSPINN', 'SAIFPOWER', 'SAIHAMCOT', 'SAIHAMTEX', 'SALAMCRST', 'SALVOCHEM', 'SAMATALETH', 'SAMORITA', 'SANDHANINS', 'SAPORTL', 'SAVAREFR', 'SEAPEARL', 'SEBL1STMF', 'SEMLFBSLGF', 'SEMLIBBLSF', 'SEMLLECMF', 'SHAHJABANK', 'SHASHADNIM', 'SHEPHERD', 'SHURWID', 'SHYAMPSUG', 'SIBL', 'SILCOPHL', 'SILVAPHL', 'SIMTEX', 'SINGERBD', 'SINOBANGLA', 'SKTRIMS', 'SONALIANSH', 'SONALIPAPR', 'SONARBAINS', 'SONARGAON', 'SOUTHEASTB', 'SPCERAMICS', 'SPCL', 'SQUARETEXT', 'SQURPHARMA', 'SSSTEEL', 'STANCERAM', 'STANDARINS', 'STANDBANKL', 'STYLECRAFT', 'SUMITPOWER', 'SUNLIFEINS', 'TAKAFULINS', 'TALLUSPIN', 'TAUFIKA', 'TITASGAS', 'TOSRIFA', 'TRUSTB1MF', 'TRUSTBANK', 'TUNGHAI', 'UCB', 'UNILEVERCL', 'UNIONCAP', 'UNIQUEHRL', 'UNITEDFIN', 'UNITEDINS', 'UPGDCL', 'USMANIAGL', 'UTTARABANK', 'UTTARAFIN', 'VAMLBDMF1', 'VAMLRBBF', 'VFSTDL', 'WALTONHIL', 'WATACHEM', 'WMSHIPYARD', 'YPL', 'ZAHEENSPIN', 'ZAHINTEX', 'ZEALBANGLA']\n",
        "bd = pd.DataFrame(bdstocks )\n",
        "bd"
      ],
      "execution_count": null,
      "outputs": []
    },
    {
      "cell_type": "code",
      "metadata": {
        "id": "S1ZsFErNO19D"
      },
      "source": [
        "import investpy\n",
        "\n",
        "df = investpy.get_stock_historical_data(stock='BEXI',\n",
        "                                        country='Bangladesh',\n",
        "                                        from_date='01/01/2010',\n",
        "                                        to_date='01/01/2020')\n",
        "print(df.head())"
      ],
      "execution_count": null,
      "outputs": []
    },
    {
      "cell_type": "code",
      "metadata": {
        "id": "OZhtLALGIDg9"
      },
      "source": [
        "# Choose among \"DSE Broad\" , \"DSE 30\" , \"DSEX Shariah\"\n",
        "bdindices = ['DSE 30', 'DSE Broad', 'DSEX Shariah']\n",
        "\n",
        "for i in bdindices:\n",
        "  dse_data = index_hist(startdate = '01/01/2021',\n",
        "                        enddate = '01/08/2021',\n",
        "                        index = i)\n",
        "\n",
        "df = pd.DataFrame(dse_data)\n",
        "\n",
        "df\n"
      ],
      "execution_count": null,
      "outputs": []
    },
    {
      "cell_type": "code",
      "metadata": {
        "id": "0F0sv18XGjQz"
      },
      "source": [
        "import pandas as pd\n",
        "from bdshare import get_hist_data\n",
        "\n",
        "def dse_hist(startdate, enddate, instrument):\n",
        "  df = get_hist_data(startdate, enddate, instrument)\n",
        "  df = df.sort_index(ascending = True)\n",
        "  df = df.reset_index()\n",
        "  df = df[[\"date\", \"symbol\", \"ltp\", \"high\", \"low\", \"open\", \"close\", \"ycp\", \"trade\", \"value\", \"volume\"]]\n",
        "  df.columns = [\"DATE\", \"TRADING.CODE\", \"LTP\", \"HIGH\", \"LOW\", \"OPENP\", \"CLOSEP\", \"YCP\", \"TRADE\", \"VALUE\", \"VOLUME\"]\n",
        "  cols = df.columns.drop(['DATE', 'TRADING.CODE'])\n",
        "  df[cols] = df[cols].apply(pd.to_numeric, errors='coerce') \n",
        "  df[cols] = df[cols].round(2)\n",
        "  return (df)"
      ],
      "execution_count": 53,
      "outputs": []
    },
    {
      "cell_type": "code",
      "metadata": {
        "id": "kUg-9OzMF4nQ"
      },
      "source": [
        "dse_hist('01/01/2021','01/08/2021','BEXI')"
      ],
      "execution_count": null,
      "outputs": []
    },
    {
      "cell_type": "code",
      "metadata": {
        "id": "2a_2XUUE3ez_"
      },
      "source": [
        "# importing required libraries\n",
        "import pandas as pd\n",
        "import numpy as np\n",
        "import dash\n",
        "import dash_core_components as dcc\n",
        "import dash_html_components as html\n",
        "from dash.dependencies import Input, Output, State\n",
        "from datetime import datetime\n",
        "import plotly.express as px\n",
        "import plotly.graph_objs as go\n",
        "from cryptocmd import CmcScraper\n",
        "#import pandas_datareader as pdr\n",
        "from prophet import Prophet\n",
        "\n",
        "# initiate the app\n",
        "app = dash.Dash(\n",
        "    __name__,\n",
        "    meta_tags=[{\"name\": \"viewport\", \"content\": \"width=device-width, initial-scale=1\"}],\n",
        ")\n",
        "server = app.server\n",
        "\n",
        "# get the cryptocurrency list\n",
        "cryp_value =  ['AAVE', 'ADA', 'BCH', 'BNB', 'BTC', 'BUSD', 'DOGE', 'ETC', 'ETH', 'FIL', 'FTT', 'ICP', 'LTC', 'SOL', 'USDC', 'USDT', 'WBTC', 'XLM', 'XMR', 'XRP']\n",
        "cryp_label = ['Aave', 'Cardano', 'Bitcoin Cash', 'Binance Coin', 'Bitcoin', 'Binance USD', 'Doge Coin', 'Ethereum Classic', 'Ethereum', 'Filecoin', 'FTX Token', 'Internet Computer', 'Litecoin', 'Solana', 'USD Coin', 'Tether', 'Wrapped Bitcoin', 'Stellar', 'Monero', 'XRP']\n",
        "\n",
        "# crypcode = pd.read_csv(\"crypcode.csv\")\n",
        "# cryp_value = crypcode[\"currency code\"].tolist()\n",
        "# cryp_label = crypcode[\"currency name\"].tolist()\n",
        "\n",
        "# set date for importing data\n",
        "todate = datetime.today().strftime(\"%d-%m-%Y\")\n",
        "firstdate = pd.to_datetime(todate, format=\"%d-%m-%Y\") - pd.to_timedelta(\n",
        "    365 , unit=\"d\"\n",
        ")\n",
        "firstdate = firstdate.strftime(\"%d-%m-%Y\")\n",
        "\n",
        "# read more about inline-block & flex\n",
        "# https://www.geeksforgeeks.org/what-is-the-difference-between-inline-flex-and-inline-block-in-css/\n",
        "# read more about padding and margin\n",
        "# https://stackoverflow.com/questions/35620419/what-is-difference-between-css-margin-and-padding\n",
        "\n",
        "# format the app\n",
        "colors = {\"background\": \"#0B1C18\", \"text\": \"#479B55\", \"box\": \"#7F7F7F\"}\n",
        "\n",
        "app.layout = html.Div(\n",
        "    children=[\n",
        "        html.H3(\n",
        "            \"Crypto Forecast\",\n",
        "            style={\n",
        "                \"textAlign\": \"center\",\n",
        "                \"verticalAlign\": \"middle\",\n",
        "                \"paddingTop\": \"15px\",\n",
        "            },\n",
        "        ),\n",
        "        html.Div(\n",
        "            [\n",
        "                html.Div(\n",
        "                    [\n",
        "                        html.H6(\n",
        "                            \"Select Crypto\",\n",
        "                            style={\n",
        "                                \"textAlign\": \"center\",\n",
        "                            },\n",
        "                        ),\n",
        "                        dcc.Dropdown(\n",
        "                            id=\"SelectCrypto\",\n",
        "                            options=[{\"label\": i, \"value\": i} for i in cryp_value],\n",
        "                            value=\"BTC\",\n",
        "                            clearable=False,\n",
        "                            style={\n",
        "                                \"fontsize\": 24,\n",
        "                                \"color\": colors[\"text\"],\n",
        "                            },  # this style controls the text inside the dropdown\n",
        "                        ),\n",
        "                    ],\n",
        "                    style={  # this style controls the layout of the dropdown box\n",
        "                        \"verticalAlign\": \"middle\",\n",
        "                        \"paddingBottom\": \"15px\",\n",
        "                    },\n",
        "                ),\n",
        "            ],\n",
        "            style={\"display\": \"flex\", \"justify-content\": \"center\"},\n",
        "        ),\n",
        "        # the graphs\n",
        "        dcc.Graph(id=\"forecast\", style={\"color\": colors[\"text\"]}),\n",
        "    ],\n",
        "    style={\n",
        "        \"backgroundColor\": colors[\"background\"],\n",
        "        \"color\": colors[\"text\"],\n",
        "        \"width\": \"100%\",\n",
        "        \"height\": \"100%\",\n",
        "    },  # this style controls the entire app\n",
        ")\n",
        "\n",
        "\n",
        "# app functions\n",
        "@app.callback(\n",
        "    Output(component_id=\"forecast\", component_property=\"figure\"),\n",
        "    [Input(component_id=\"SelectCrypto\", component_property=\"value\")],\n",
        ")\n",
        "\n",
        "# start the function\n",
        "def CryptoForecast(SelectCrypto):\n",
        "\n",
        "   # get the data\n",
        "#     cryptodata = pdr.get_data_yahoo(\n",
        "#         [SelectCrypto + \"-\" + \"USD\"], start=firstdate, end=todate\n",
        "#     ).reset_index()\n",
        "#     cryptodata.columns = cryptodata.columns.get_level_values(0)\n",
        "\n",
        "    scraper = CmcScraper(SelectCrypto, firstdate, todate)\n",
        "    cryptodata = scraper.get_dataframe()\n",
        "\n",
        "    cryp_pro = cryptodata[[\"Date\", \"Close\"]]\n",
        "    cryp_pro = cryp_pro.rename(columns={\"Date\": \"ds\", \"Close\": \"y\"})\n",
        "\n",
        "    # Fit the Model\n",
        "    model = Prophet()\n",
        "    model.fit(cryp_pro)\n",
        "\n",
        "    # make the prediction\n",
        "    future = model.make_future_dataframe(periods=60)\n",
        "    forecast = model.predict(future)\n",
        "\n",
        "    # prepare data for plotting \n",
        "    forecast = forecast[[\"ds\", \"yhat\", \"yhat_lower\", \"yhat_upper\"]]\n",
        "    forecast = forecast.rename(columns={\"ds\": \"Date\"})\n",
        "    plot_data = cryptodata.merge(forecast, on=\"Date\", how=\"outer\").sort_values(by=\"Date\", ascending=False)\n",
        "    plot_data[\"Volume\"] = plot_data[\"Volume\"].replace(np.nan, 0)\n",
        "    plot_data = plot_data.iloc[0:150,:]\n",
        "\n",
        "    # make the plot\n",
        "    fig_forecast = px.scatter(\n",
        "        plot_data,\n",
        "        x=\"Date\",\n",
        "        y=\"Close\",\n",
        "        size=\"Volume\",\n",
        "        title=SelectCrypto,\n",
        "        labels={\"Date\": \"Date\", \"Close\": \"Price in USD\"},\n",
        "        template=\"plotly_dark\",\n",
        "        #height = 500, \n",
        "    ).update_traces(mode=\"lines+markers\", marker=dict(color=\"green\", opacity=0.4))\n",
        "\n",
        "    fig_forecast[\"data\"][0][\"showlegend\"]=True\n",
        "    fig_forecast[\"data\"][0][\"name\"]=\"Actual Price\"\n",
        "\n",
        "    fig_forecast.add_trace(\n",
        "        go.Scatter(\n",
        "            x=plot_data[\"Date\"],\n",
        "            y=plot_data[\"yhat\"],\n",
        "            mode=\"lines\",\n",
        "            name=\"Predicted Price\",\n",
        "        )\n",
        "    )\n",
        "    fig_forecast.add_trace(\n",
        "        go.Scatter(\n",
        "            x=plot_data[\"Date\"],\n",
        "            y=plot_data[\"yhat_upper\"],\n",
        "            mode=\"lines\",\n",
        "            line=dict(dash=\"dot\", color=\"dodgerblue\"),\n",
        "            name=\"Upper Band\",\n",
        "        )\n",
        "    )\n",
        "    fig_forecast.add_trace(\n",
        "        go.Scatter(\n",
        "            x=plot_data[\"Date\"],\n",
        "            y=plot_data[\"yhat_lower\"],\n",
        "            mode=\"lines\",\n",
        "            line=dict(dash=\"dot\"),\n",
        "            name=\"Lower Band\",\n",
        "        )\n",
        "    )\n",
        "\n",
        "    fig_forecast.update_layout(legend=dict(orientation=\"h\", x=1.02, y=1.02, xanchor=\"right\", yanchor=\"bottom\"))\n",
        "\n",
        "    return fig_forecast\n",
        "\n",
        "# launch the app\n",
        "if __name__ == \"__main__\":\n",
        "    app.run_server(debug=False, threaded=False)"
      ],
      "execution_count": null,
      "outputs": []
    }
  ]
}